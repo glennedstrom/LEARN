{
 "cells": [
  {
   "cell_type": "code",
   "execution_count": 26,
   "id": "3f68d04f-74ba-4daa-ba26-fa74fba77a8c",
   "metadata": {},
   "outputs": [
    {
     "data": {
      "image/png": "[encoded data removed]",
      "text/plain": [
       "<IPython.core.display.Image object>"
      ]
     },
     "metadata": {},
     "output_type": "display_data"
    },
    {
     "name": "stdout",
     "output_type": "stream",
     "text": [
      "{'name': 'God', 'wallet': [100, 2, 20, 2, 2], 'operator': '*', 'result': 16000}\n",
      "{'name': 'God', 'wallet': [100, 2, 20, 2, 2], 'operator': '+', 'result': 126}\n"
     ]
    }
   ],
   "source": [
    "from typing import Dict, TypedDict, List\n",
    "from langgraph.graph import StateGraph\n",
    "from IPython.display import Image, display\n",
    "\n",
    "def print_graph(app):\n",
    "    display(Image(app.get_graph().draw_mermaid_png))\n",
    "    \n",
    "class AgentState(TypedDict): # State Schema\n",
    "    name : str\n",
    "    wallet: List[int]\n",
    "    operator : str\n",
    "    result : int\n",
    "\n",
    "def math_god_node(state: AgentState) -> AgentState:\n",
    "    \"\"\"Node that sums the dolla dolla bills in math god's wallet\"\"\"\n",
    "    moolah = 0\n",
    "    match state[\"operator\"]:\n",
    "        case \"*\":\n",
    "            # (state[\"wallet\"])\n",
    "            moolah = 1\n",
    "            for i in state[\"wallet\"]:\n",
    "                moolah *= i\n",
    "                \n",
    "        case \"+\":\n",
    "            moolah = sum(state[\"wallet\"])\n",
    "\n",
    "    state['result'] = moolah\n",
    "\n",
    "    \n",
    "    \n",
    "    return state\n",
    "\n",
    "\n",
    "    \n",
    "def greeting_node(state: AgentState) -> AgentState:\n",
    "    \"\"\"Node that adds a greeting to the state\"\"\"\n",
    "\n",
    "    state['message'] = \"Hello \" + state[\"message\"] + \", how is your day going?\"\n",
    "    return state\n",
    "\n",
    "def compliment_node(state: AgentState) -> AgentState:\n",
    "    \"\"\"Node that adds a compliment to the state\"\"\"\n",
    "\n",
    "    state['message'] = \"Wow \" + state[\"message\"] + \"! You look amazing today!\"\n",
    "    return state\n",
    "\n",
    "\n",
    "graph = StateGraph(AgentState)\n",
    "\n",
    "graph.add_node(\"math_god\", math_god_node)\n",
    "\n",
    "graph.set_entry_point(\"math_god\")\n",
    "graph.set_finish_point(\"math_god\")\n",
    "\n",
    "app = graph.compile()\n",
    "\n",
    "display(Image(app.get_graph().draw_mermaid_png()))\n",
    "\n",
    "answers = app.invoke({\"name\": \"God\", \"wallet\": [100, 2, 20, 2, 2], \"operator\": \"*\"})\n",
    "print(answers)\n",
    "answers = app.invoke({\"name\": \"God\", \"wallet\": [100, 2, 20, 2, 2], \"operator\": \"+\"})\n",
    "print(answers)\n"
   ]
  },
  {
   "cell_type": "code",
   "execution_count": null,
   "id": "61961c53-030a-43a7-82e6-73a56ff49620",
   "metadata": {},
   "outputs": [],
   "source": []
  }
 ],
 "metadata": {
  "kernelspec": {
   "display_name": "Python 3 (ipykernel)",
   "language": "python",
   "name": "python3"
  },
  "language_info": {
   "codemirror_mode": {
    "name": "ipython",
    "version": 3
   },
   "file_extension": ".py",
   "mimetype": "text/x-python",
   "name": "python",
   "nbconvert_exporter": "python",
   "pygments_lexer": "ipython3",
   "version": "3.12.3"
  }
 },
 "nbformat": 4,
 "nbformat_minor": 5
}
